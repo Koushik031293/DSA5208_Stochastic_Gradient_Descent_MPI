{
 "cells": [
  {
   "cell_type": "code",
   "execution_count": 1,
   "id": "bf7d3c87",
   "metadata": {},
   "outputs": [],
   "source": [
    "import numpy as np\n",
    "import pandas as pd\n",
    "from sklearn.preprocessing import StandardScaler"
   ]
  },
  {
   "cell_type": "code",
   "execution_count": 2,
   "id": "81f93c27",
   "metadata": {},
   "outputs": [],
   "source": [
    "#set dtype_map to reduce memory usage\n",
    "dtype_map = {\n",
    "    # keep continuous as Float32 (allows NaN)\n",
    "    \"passenger_count\": \"Float32\",\n",
    "    \"trip_distance\":   \"Float32\",\n",
    "    \"extra\":           \"Float32\",\n",
    "    \"total_amount\":    \"Float32\",\n",
    "    # IDs as nullable integers (capital I)\n",
    "    \"RatecodeID\":   \"Int16\",\n",
    "    \"PULocationID\": \"Int16\",\n",
    "    \"DOLocationID\": \"Int16\",\n",
    "    \"payment_type\": \"Int8\",\n",
    "}"
   ]
  },
  {
   "cell_type": "code",
   "execution_count": 3,
   "id": "11e8cce4",
   "metadata": {},
   "outputs": [],
   "source": [
    "REQUIRED_COLS = [\n",
    "        \"tpep_pickup_datetime\",\n",
    "        \"tpep_dropoff_datetime\",\n",
    "        \"passenger_count\",\n",
    "        \"trip_distance\",\n",
    "        \"RatecodeID\",\n",
    "        \"PULocationID\",\n",
    "        \"DOLocationID\",\n",
    "        \"payment_type\",\n",
    "        \"extra\",\n",
    "        \"total_amount\",\n",
    "]"
   ]
  },
  {
   "cell_type": "code",
   "execution_count": 6,
   "id": "83a0ce2d",
   "metadata": {},
   "outputs": [],
   "source": [
    "df = pd.read_csv(\n",
    "    \"../data/nytaxi2022.csv\",\n",
    "    usecols=REQUIRED_COLS,\n",
    "    dtype=dtype_map,\n",
    "    na_values=[\"\\\\N\", \"\", \"NA\"], # treat these as missing\n",
    "    keep_default_na=True,    \n",
    "    low_memory=False\n",
    ")"
   ]
  },
  {
   "cell_type": "code",
   "execution_count": 7,
   "id": "fff2a9f5",
   "metadata": {},
   "outputs": [],
   "source": [
    "dt_fmt = '%m/%d/%Y %I:%M:%S %p'\n",
    "df[\"tpep_pickup_datetime\"]  = pd.to_datetime(df[\"tpep_pickup_datetime\"], format=dt_fmt, errors=\"coerce\")\n",
    "df[\"tpep_dropoff_datetime\"] = pd.to_datetime(df[\"tpep_dropoff_datetime\"], format=dt_fmt, errors=\"coerce\")\n"
   ]
  },
  {
   "cell_type": "code",
   "execution_count": 8,
   "id": "5e402946",
   "metadata": {},
   "outputs": [
    {
     "data": {
      "application/vnd.microsoft.datawrangler.viewer.v0+json": {
       "columns": [
        {
         "name": "index",
         "rawType": "int64",
         "type": "integer"
        },
        {
         "name": "tpep_pickup_datetime",
         "rawType": "datetime64[ns]",
         "type": "datetime"
        },
        {
         "name": "tpep_dropoff_datetime",
         "rawType": "datetime64[ns]",
         "type": "datetime"
        },
        {
         "name": "passenger_count",
         "rawType": "Float32",
         "type": "float"
        },
        {
         "name": "trip_distance",
         "rawType": "Float32",
         "type": "float"
        },
        {
         "name": "RatecodeID",
         "rawType": "Int16",
         "type": "integer"
        },
        {
         "name": "PULocationID",
         "rawType": "Int16",
         "type": "integer"
        },
        {
         "name": "DOLocationID",
         "rawType": "Int16",
         "type": "integer"
        },
        {
         "name": "payment_type",
         "rawType": "Int8",
         "type": "integer"
        },
        {
         "name": "extra",
         "rawType": "Float32",
         "type": "float"
        },
        {
         "name": "total_amount",
         "rawType": "Float32",
         "type": "float"
        }
       ],
       "ref": "697a5ac2-a613-4d3c-aa54-7df50c7ea928",
       "rows": [
        [
         "0",
         "2022-01-01 00:35:40",
         "2022-01-01 00:53:29",
         "2.0",
         "3.8",
         "1",
         "142",
         "236",
         "1",
         "3.0",
         "21.95"
        ],
        [
         "1",
         "2022-01-01 00:33:43",
         "2022-01-01 00:42:07",
         "1.0",
         "2.1",
         "1",
         "236",
         "42",
         "1",
         "0.5",
         "13.3"
        ],
        [
         "2",
         "2022-01-01 00:53:21",
         "2022-01-01 01:02:19",
         "1.0",
         "0.97",
         "1",
         "166",
         "166",
         "1",
         "0.5",
         "10.56"
        ],
        [
         "3",
         "2022-01-01 00:25:21",
         "2022-01-01 00:35:23",
         "1.0",
         "1.09",
         "1",
         "114",
         "68",
         "2",
         "0.5",
         "11.8"
        ],
        [
         "4",
         "2022-01-01 00:36:48",
         "2022-01-01 01:14:20",
         "1.0",
         "4.3",
         "1",
         "68",
         "163",
         "1",
         "0.5",
         "30.3"
        ]
       ],
       "shape": {
        "columns": 10,
        "rows": 5
       }
      },
      "text/html": [
       "<div>\n",
       "<style scoped>\n",
       "    .dataframe tbody tr th:only-of-type {\n",
       "        vertical-align: middle;\n",
       "    }\n",
       "\n",
       "    .dataframe tbody tr th {\n",
       "        vertical-align: top;\n",
       "    }\n",
       "\n",
       "    .dataframe thead th {\n",
       "        text-align: right;\n",
       "    }\n",
       "</style>\n",
       "<table border=\"1\" class=\"dataframe\">\n",
       "  <thead>\n",
       "    <tr style=\"text-align: right;\">\n",
       "      <th></th>\n",
       "      <th>tpep_pickup_datetime</th>\n",
       "      <th>tpep_dropoff_datetime</th>\n",
       "      <th>passenger_count</th>\n",
       "      <th>trip_distance</th>\n",
       "      <th>RatecodeID</th>\n",
       "      <th>PULocationID</th>\n",
       "      <th>DOLocationID</th>\n",
       "      <th>payment_type</th>\n",
       "      <th>extra</th>\n",
       "      <th>total_amount</th>\n",
       "    </tr>\n",
       "  </thead>\n",
       "  <tbody>\n",
       "    <tr>\n",
       "      <th>0</th>\n",
       "      <td>2022-01-01 00:35:40</td>\n",
       "      <td>2022-01-01 00:53:29</td>\n",
       "      <td>2.0</td>\n",
       "      <td>3.8</td>\n",
       "      <td>1</td>\n",
       "      <td>142</td>\n",
       "      <td>236</td>\n",
       "      <td>1</td>\n",
       "      <td>3.0</td>\n",
       "      <td>21.950001</td>\n",
       "    </tr>\n",
       "    <tr>\n",
       "      <th>1</th>\n",
       "      <td>2022-01-01 00:33:43</td>\n",
       "      <td>2022-01-01 00:42:07</td>\n",
       "      <td>1.0</td>\n",
       "      <td>2.1</td>\n",
       "      <td>1</td>\n",
       "      <td>236</td>\n",
       "      <td>42</td>\n",
       "      <td>1</td>\n",
       "      <td>0.5</td>\n",
       "      <td>13.3</td>\n",
       "    </tr>\n",
       "    <tr>\n",
       "      <th>2</th>\n",
       "      <td>2022-01-01 00:53:21</td>\n",
       "      <td>2022-01-01 01:02:19</td>\n",
       "      <td>1.0</td>\n",
       "      <td>0.97</td>\n",
       "      <td>1</td>\n",
       "      <td>166</td>\n",
       "      <td>166</td>\n",
       "      <td>1</td>\n",
       "      <td>0.5</td>\n",
       "      <td>10.56</td>\n",
       "    </tr>\n",
       "    <tr>\n",
       "      <th>3</th>\n",
       "      <td>2022-01-01 00:25:21</td>\n",
       "      <td>2022-01-01 00:35:23</td>\n",
       "      <td>1.0</td>\n",
       "      <td>1.09</td>\n",
       "      <td>1</td>\n",
       "      <td>114</td>\n",
       "      <td>68</td>\n",
       "      <td>2</td>\n",
       "      <td>0.5</td>\n",
       "      <td>11.8</td>\n",
       "    </tr>\n",
       "    <tr>\n",
       "      <th>4</th>\n",
       "      <td>2022-01-01 00:36:48</td>\n",
       "      <td>2022-01-01 01:14:20</td>\n",
       "      <td>1.0</td>\n",
       "      <td>4.3</td>\n",
       "      <td>1</td>\n",
       "      <td>68</td>\n",
       "      <td>163</td>\n",
       "      <td>1</td>\n",
       "      <td>0.5</td>\n",
       "      <td>30.299999</td>\n",
       "    </tr>\n",
       "  </tbody>\n",
       "</table>\n",
       "</div>"
      ],
      "text/plain": [
       "  tpep_pickup_datetime tpep_dropoff_datetime  passenger_count  trip_distance  \\\n",
       "0  2022-01-01 00:35:40   2022-01-01 00:53:29              2.0            3.8   \n",
       "1  2022-01-01 00:33:43   2022-01-01 00:42:07              1.0            2.1   \n",
       "2  2022-01-01 00:53:21   2022-01-01 01:02:19              1.0           0.97   \n",
       "3  2022-01-01 00:25:21   2022-01-01 00:35:23              1.0           1.09   \n",
       "4  2022-01-01 00:36:48   2022-01-01 01:14:20              1.0            4.3   \n",
       "\n",
       "   RatecodeID  PULocationID  DOLocationID  payment_type  extra  total_amount  \n",
       "0           1           142           236             1    3.0     21.950001  \n",
       "1           1           236            42             1    0.5          13.3  \n",
       "2           1           166           166             1    0.5         10.56  \n",
       "3           1           114            68             2    0.5          11.8  \n",
       "4           1            68           163             1    0.5     30.299999  "
      ]
     },
     "execution_count": 8,
     "metadata": {},
     "output_type": "execute_result"
    }
   ],
   "source": [
    "df.head()"
   ]
  },
  {
   "cell_type": "code",
   "execution_count": 9,
   "id": "ca6c7d24",
   "metadata": {},
   "outputs": [
    {
     "name": "stdout",
     "output_type": "stream",
     "text": [
      "tpep_pickup_datetime     datetime64[ns]\n",
      "tpep_dropoff_datetime    datetime64[ns]\n",
      "passenger_count                 Float32\n",
      "trip_distance                   Float32\n",
      "RatecodeID                        Int16\n",
      "PULocationID                      Int16\n",
      "DOLocationID                      Int16\n",
      "payment_type                       Int8\n",
      "extra                           Float32\n",
      "total_amount                    Float32\n",
      "dtype: object\n",
      "<class 'pandas._libs.tslibs.timestamps.Timestamp'>\n"
     ]
    }
   ],
   "source": [
    "print(df.dtypes)\n",
    "print(type(df[\"tpep_pickup_datetime\"].iloc[0]))"
   ]
  },
  {
   "cell_type": "code",
   "execution_count": 10,
   "id": "a987fd37",
   "metadata": {},
   "outputs": [
    {
     "name": "stdout",
     "output_type": "stream",
     "text": [
      "Number of rows before cleaning:  39656098\n"
     ]
    }
   ],
   "source": [
    "#count rows before cleaning\n",
    "print(\"Number of rows before cleaning: \", len(df))"
   ]
  },
  {
   "cell_type": "code",
   "execution_count": 11,
   "id": "c86bcd13",
   "metadata": {},
   "outputs": [],
   "source": [
    "#drop rows with missing values\n",
    "df = df.dropna()"
   ]
  },
  {
   "cell_type": "code",
   "execution_count": 12,
   "id": "d62ceae1",
   "metadata": {},
   "outputs": [
    {
     "name": "stdout",
     "output_type": "stream",
     "text": [
      "Number of rows after dropping missing values:  38287795\n"
     ]
    }
   ],
   "source": [
    "#count rows after dropping missing values\n",
    "print(\"Number of rows after dropping missing values: \", len(df))"
   ]
  },
  {
   "cell_type": "code",
   "execution_count": null,
   "id": "ee2da801",
   "metadata": {},
   "outputs": [],
   "source": [
    "#basic sanity check on passenger_count, trip_distance, total_amount. \n",
    "#remove passenger_count <= 0, trip_distance <= 0, total_amount <= 0, extra<=0\n",
    "df = df[(df[\"passenger_count\"] > 0) & (df[\"trip_distance\"] > 0) & (df[\"total_amount\"] > 0) & (df['extra'] > 0)]"
   ]
  },
  {
   "cell_type": "code",
   "execution_count": null,
   "id": "6cc9a82f",
   "metadata": {},
   "outputs": [
    {
     "name": "stdout",
     "output_type": "stream",
     "text": [
      "Number of rows after sanity check:  36818628\n"
     ]
    }
   ],
   "source": [
    "#number of rows after sanity check\n",
    "print(\"Number of rows after removing negative values: \", len(df))"
   ]
  },
  {
   "cell_type": "code",
   "execution_count": 15,
   "id": "0cf4423f",
   "metadata": {},
   "outputs": [],
   "source": [
    "#add duration column in minutes\n",
    "df[\"duration_min\"] = (df[\"tpep_dropoff_datetime\"] - df[\"tpep_pickup_datetime\"]).dt.total_seconds() / 60.0"
   ]
  },
  {
   "cell_type": "code",
   "execution_count": 16,
   "id": "cbd56d54",
   "metadata": {},
   "outputs": [],
   "source": [
    "#move duration_min column to be after tpep_dropoff_datetime\n",
    "cols = list(df.columns)\n",
    "\n",
    "# find index of 'tpep_dropoff_datetime'\n",
    "idx = cols.index(\"tpep_dropoff_datetime\")\n",
    "\n",
    "# move duration_min right after tpep_dropoff_datetime\n",
    "cols.insert(idx+1, cols.pop(cols.index(\"duration_min\")))\n",
    "\n",
    "df = df[cols]"
   ]
  },
  {
   "cell_type": "code",
   "execution_count": 17,
   "id": "a3df368d",
   "metadata": {},
   "outputs": [],
   "source": [
    "#drop rows with duration_min <= 0\n",
    "df = df[df[\"duration_min\"] > 0]"
   ]
  },
  {
   "cell_type": "code",
   "execution_count": 18,
   "id": "23507d16",
   "metadata": {},
   "outputs": [
    {
     "name": "stdout",
     "output_type": "stream",
     "text": [
      "Number of rows after dropping impossible durations:  36816761\n"
     ]
    }
   ],
   "source": [
    "#count rows after dropping impossible durations\n",
    "print(\"Number of rows after dropping impossible durations: \", len(df))\n"
   ]
  },
  {
   "cell_type": "code",
   "execution_count": 19,
   "id": "de2fe886",
   "metadata": {},
   "outputs": [],
   "source": [
    "#given nyc's speed limit of 25mph to 65mph i.e. 40km/h to 105km/h, remove trips impossible trips \n",
    "df[\"duration_hour\"] = df[\"duration_min\"] / 60.0\n",
    "df[\"speed_kmh\"] = df[\"trip_distance\"] / df[\"duration_hour\"] #lets just assume trip distance is in km\n"
   ]
  },
  {
   "cell_type": "code",
   "execution_count": 20,
   "id": "e5f4458c",
   "metadata": {},
   "outputs": [],
   "source": [
    "cols = list(df.columns)\n",
    "\n",
    "# find index of 'duration_min'\n",
    "idx = cols.index(\"duration_min\")\n",
    "\n",
    "# move duration_hour right after duration_min\n",
    "cols.insert(idx+1, cols.pop(cols.index(\"duration_hour\")))\n",
    "\n",
    "# because we just moved a column, recompute index of duration_min\n",
    "idx = cols.index(\"duration_min\")\n",
    "\n",
    "# move speed_kmh right after duration_min (which will then be after duration_hour)\n",
    "cols.insert(idx+2, cols.pop(cols.index(\"speed_kmh\")))\n",
    "\n",
    "df = df[cols]\n"
   ]
  },
  {
   "cell_type": "code",
   "execution_count": 21,
   "id": "b900d1a2",
   "metadata": {},
   "outputs": [],
   "source": [
    "#drop nonsense rows, nyc speed limit is 40-105kmh\n",
    "df = df[(df[\"speed_kmh\"] >= 1) & (df[\"speed_kmh\"] <= 120)]"
   ]
  },
  {
   "cell_type": "code",
   "execution_count": 22,
   "id": "1536439f",
   "metadata": {},
   "outputs": [
    {
     "name": "stdout",
     "output_type": "stream",
     "text": [
      "Number of rows after dropping impossible speeds:  36724241\n"
     ]
    }
   ],
   "source": [
    "# count rows after dropping impossible speeds\n",
    "print(\"Number of rows after dropping impossible speeds: \", len(df))"
   ]
  },
  {
   "cell_type": "code",
   "execution_count": null,
   "id": "2e13f805",
   "metadata": {},
   "outputs": [],
   "source": [
    "#drop rows with total amount <3, which is the minimum fare in nyc\n",
    "df = df[df[\"total_amount\"] >= 3]"
   ]
  },
  {
   "cell_type": "code",
   "execution_count": 27,
   "id": "d1a7a015",
   "metadata": {},
   "outputs": [
    {
     "name": "stdout",
     "output_type": "stream",
     "text": [
      "Number of rows after dropping total_amount < 3:  36720650\n"
     ]
    }
   ],
   "source": [
    "# count rows after dropping total_amount < 3\n",
    "print(\"Number of rows after dropping total_amount < 3: \", len(df))\n"
   ]
  },
  {
   "cell_type": "code",
   "execution_count": 31,
   "id": "9edcb397",
   "metadata": {},
   "outputs": [],
   "source": [
    "#drop rows with duration <= 1\n",
    "df = df[df[\"duration_min\"] > 1]"
   ]
  },
  {
   "cell_type": "code",
   "execution_count": 32,
   "id": "a16de75f",
   "metadata": {},
   "outputs": [
    {
     "name": "stdout",
     "output_type": "stream",
     "text": [
      "Number of rows after dropping duration <= 1 minute:  36604981\n"
     ]
    }
   ],
   "source": [
    "#count rows after dropping duraion  <= 1\n",
    "print(\"Number of rows after dropping duration <= 1 minute: \", len(df))"
   ]
  },
  {
   "cell_type": "code",
   "execution_count": 33,
   "id": "fd93930e",
   "metadata": {},
   "outputs": [
    {
     "name": "stderr",
     "output_type": "stream",
     "text": [
      "/var/folders/t2/8dnrmst93z7fjnvxwhl1yzj40000gn/T/ipykernel_9842/2096913589.py:2: SettingWithCopyWarning: \n",
      "A value is trying to be set on a copy of a slice from a DataFrame.\n",
      "Try using .loc[row_indexer,col_indexer] = value instead\n",
      "\n",
      "See the caveats in the documentation: https://pandas.pydata.org/pandas-docs/stable/user_guide/indexing.html#returning-a-view-versus-a-copy\n",
      "  df[\"fare_per_km\"] = df[\"total_amount\"] / df[\"trip_distance\"]\n",
      "/var/folders/t2/8dnrmst93z7fjnvxwhl1yzj40000gn/T/ipykernel_9842/2096913589.py:5: SettingWithCopyWarning: \n",
      "A value is trying to be set on a copy of a slice from a DataFrame.\n",
      "Try using .loc[row_indexer,col_indexer] = value instead\n",
      "\n",
      "See the caveats in the documentation: https://pandas.pydata.org/pandas-docs/stable/user_guide/indexing.html#returning-a-view-versus-a-copy\n",
      "  df[\"fare_per_min\"] = df[\"total_amount\"] / df[\"duration_min\"]\n"
     ]
    }
   ],
   "source": [
    "#calculate fare_per_km\n",
    "df[\"fare_per_km\"] = df[\"total_amount\"] / df[\"trip_distance\"]\n",
    "\n",
    "#calculate fare_per_min\n",
    "df[\"fare_per_min\"] = df[\"total_amount\"] / df[\"duration_min\"]"
   ]
  },
  {
   "cell_type": "code",
   "execution_count": 39,
   "id": "7ed69f02",
   "metadata": {},
   "outputs": [],
   "source": [
    "#remove ratecodeid that is not either 1,2,3,4,5,6,99\n",
    "df = df[df[\"RatecodeID\"].isin([1,2,3,4,5,6,99])]"
   ]
  },
  {
   "cell_type": "code",
   "execution_count": 40,
   "id": "14344fa1",
   "metadata": {},
   "outputs": [
    {
     "name": "stdout",
     "output_type": "stream",
     "text": [
      "Number of rows after dropping invalid RatecodeID:  36348804\n"
     ]
    }
   ],
   "source": [
    "#count rows after dropping invalid ratecodeid\n",
    "print(\"Number of rows after dropping invalid RatecodeID: \", len(df))"
   ]
  },
  {
   "cell_type": "code",
   "execution_count": 41,
   "id": "86c95de0",
   "metadata": {},
   "outputs": [],
   "source": [
    "# bounds per RatecodeID: (km_low, km_high, min_low, min_high)\n",
    "bounds = {\n",
    "    1: (0.5, 20, 0.10, 10),\n",
    "    2: (0.5, 10, 0.03, 10),\n",
    "    3: (0.5, 12, 0.05, 12),\n",
    "    4: (0.5, 20, 0.05, 12),\n",
    "    5: (0.05, 30, 0.02, 20),\n",
    "    6: (0.05, 20, 0.02, 12),\n",
    "    99: (0.05, 30, 0.05, 20),\n",
    "}\n",
    "\n",
    "# default fallback if unseen code appears\n",
    "default_bounds = (0.05, 30, 0.05, 20)\n",
    "\n",
    "# vectorized mask builder\n",
    "def make_mask(s_code, km, per_min):\n",
    "    km_lo, km_hi, m_lo, m_hi = zip(*[\n",
    "        bounds.get(code, default_bounds) for code in s_code.values\n",
    "    ])\n",
    "    km_lo = np.array(km_lo); km_hi = np.array(km_hi)\n",
    "    m_lo  = np.array(m_lo);  m_hi  = np.array(m_hi)\n",
    "    return (km >= km_lo) & (km <= km_hi) & (per_min >= m_lo) & (per_min <= m_hi)\n",
    "\n",
    "mask = make_mask(df[\"RatecodeID\"], df[\"fare_per_km\"].to_numpy(), df[\"fare_per_min\"].to_numpy())\n",
    "\n",
    "df = df[mask]"
   ]
  },
  {
   "cell_type": "code",
   "execution_count": 42,
   "id": "e1db216c",
   "metadata": {},
   "outputs": [
    {
     "name": "stdout",
     "output_type": "stream",
     "text": [
      "Number of rows after dropping invalid rates:  35437231\n"
     ]
    }
   ],
   "source": [
    "#count rows after dropping invalid rates\n",
    "print(\"Number of rows after dropping invalid rates: \", len(df))"
   ]
  },
  {
   "cell_type": "code",
   "execution_count": 38,
   "id": "b2141f45",
   "metadata": {},
   "outputs": [
    {
     "data": {
      "application/vnd.microsoft.datawrangler.viewer.v0+json": {
       "columns": [
        {
         "name": "index",
         "rawType": "object",
         "type": "string"
        },
        {
         "name": "tpep_pickup_datetime",
         "rawType": "object",
         "type": "unknown"
        },
        {
         "name": "tpep_dropoff_datetime",
         "rawType": "object",
         "type": "unknown"
        },
        {
         "name": "duration_min",
         "rawType": "float64",
         "type": "float"
        },
        {
         "name": "duration_hour",
         "rawType": "float64",
         "type": "float"
        },
        {
         "name": "speed_kmh",
         "rawType": "Float64",
         "type": "float"
        },
        {
         "name": "passenger_count",
         "rawType": "Float64",
         "type": "float"
        },
        {
         "name": "trip_distance",
         "rawType": "Float64",
         "type": "float"
        },
        {
         "name": "RatecodeID",
         "rawType": "Float64",
         "type": "float"
        },
        {
         "name": "PULocationID",
         "rawType": "Float64",
         "type": "float"
        },
        {
         "name": "DOLocationID",
         "rawType": "Float64",
         "type": "float"
        },
        {
         "name": "payment_type",
         "rawType": "Float64",
         "type": "float"
        },
        {
         "name": "extra",
         "rawType": "Float64",
         "type": "float"
        },
        {
         "name": "total_amount",
         "rawType": "Float64",
         "type": "float"
        },
        {
         "name": "fare_per_km",
         "rawType": "Float64",
         "type": "float"
        },
        {
         "name": "fare_per_min",
         "rawType": "Float64",
         "type": "float"
        }
       ],
       "ref": "7b57a3c9-defe-4c86-a3b3-5645e723330e",
       "rows": [
        [
         "count",
         "36348804",
         "36348804",
         "36348804.0",
         "36348804.0",
         "36348804.0",
         "36348804.0",
         "36348804.0",
         "36348804.0",
         "36348804.0",
         "36348804.0",
         "36348804.0",
         "36348804.0",
         "36348804.0",
         "36348804.0",
         "36348804.0"
        ],
        [
         "mean",
         "2022-07-04 18:22:49.189546752",
         "2022-07-04 18:38:43.504368896",
         "15.905247054804523",
         "0.26508745091340874",
         "12.06833735142367",
         "1.4307736158370972",
         "3.5628998279571533",
         "1.3435315230729463",
         "164.98649386098094",
         "162.76403542741048",
         "1.210261966253415",
         "1.0239733457565308",
         "21.4852294921875",
         "9.041125297546387",
         "1.5542023579126094"
        ],
        [
         "min",
         "2001-01-01 00:03:14",
         "2001-01-01 00:34:17",
         "1.0166666666666666",
         "0.016944444444444443",
         "1.0001290215167549",
         "1.0",
         "0.10000000149011612",
         "1.0",
         "1.0",
         "1.0",
         "1.0",
         "0.0",
         "3.0",
         "0.07579346001148224",
         "0.05008244258946657"
        ],
        [
         "25%",
         "2022-04-07 15:02:48",
         "2022-04-07 15:22:13.750000128",
         "7.616666666666666",
         "0.12694444444444444",
         "7.837638027993515",
         "1.0",
         "1.159999966621399",
         "1.0",
         "132.0",
         "113.0",
         "1.0",
         "0.0",
         "12.300000190734863",
         "5.959596157073975",
         "1.1417910590100644"
        ],
        [
         "50%",
         "2022-06-30 17:35:08",
         "2022-06-30 17:54:10",
         "12.333333333333334",
         "0.20555555555555557",
         "10.336633365933258",
         "1.0",
         "1.899999976158142",
         "1.0",
         "162.0",
         "162.0",
         "1.0",
         "0.5",
         "15.960000038146973",
         "8.19444465637207",
         "1.3990521543963825"
        ],
        [
         "75%",
         "2022-10-04 12:27:58.500000",
         "2022-10-04 12:46:07",
         "19.833333333333332",
         "0.33055555555555555",
         "14.160362566833957",
         "1.0",
         "3.569999933242798",
         "1.0",
         "234.0",
         "234.0",
         "1.0",
         "2.5",
         "22.770000457763672",
         "11.070967674255371",
         "1.781250055019672"
        ],
        [
         "max",
         "2023-01-01 00:31:23",
         "2023-01-01 00:56:58",
         "3001.45",
         "50.024166666666666",
         "120.0",
         "9.0",
         "380.1300048828125",
         "99.0",
         "265.0",
         "265.0",
         "5.0",
         "33.5",
         "1783.8499755859375",
         "30.0",
         "19.993356090051392"
        ],
        [
         "std",
         null,
         null,
         "13.88525081251468",
         "0.23142084687735873",
         "6.593852234071847",
         "0.9536586999893188",
         "4.508172988891602",
         "5.287256194843076",
         "64.83442180403057",
         "70.13986472016913",
         "0.42711911405728104",
         "1.2535350322723389",
         "16.725526809692383",
         "4.262413501739502",
         "0.646493126650913"
        ]
       ],
       "shape": {
        "columns": 15,
        "rows": 8
       }
      },
      "text/html": [
       "<div>\n",
       "<style scoped>\n",
       "    .dataframe tbody tr th:only-of-type {\n",
       "        vertical-align: middle;\n",
       "    }\n",
       "\n",
       "    .dataframe tbody tr th {\n",
       "        vertical-align: top;\n",
       "    }\n",
       "\n",
       "    .dataframe thead th {\n",
       "        text-align: right;\n",
       "    }\n",
       "</style>\n",
       "<table border=\"1\" class=\"dataframe\">\n",
       "  <thead>\n",
       "    <tr style=\"text-align: right;\">\n",
       "      <th></th>\n",
       "      <th>tpep_pickup_datetime</th>\n",
       "      <th>tpep_dropoff_datetime</th>\n",
       "      <th>duration_min</th>\n",
       "      <th>duration_hour</th>\n",
       "      <th>speed_kmh</th>\n",
       "      <th>passenger_count</th>\n",
       "      <th>trip_distance</th>\n",
       "      <th>RatecodeID</th>\n",
       "      <th>PULocationID</th>\n",
       "      <th>DOLocationID</th>\n",
       "      <th>payment_type</th>\n",
       "      <th>extra</th>\n",
       "      <th>total_amount</th>\n",
       "      <th>fare_per_km</th>\n",
       "      <th>fare_per_min</th>\n",
       "    </tr>\n",
       "  </thead>\n",
       "  <tbody>\n",
       "    <tr>\n",
       "      <th>count</th>\n",
       "      <td>36348804</td>\n",
       "      <td>36348804</td>\n",
       "      <td>3.634880e+07</td>\n",
       "      <td>3.634880e+07</td>\n",
       "      <td>36348804.0</td>\n",
       "      <td>36348804.0</td>\n",
       "      <td>36348804.0</td>\n",
       "      <td>36348804.0</td>\n",
       "      <td>36348804.0</td>\n",
       "      <td>36348804.0</td>\n",
       "      <td>36348804.0</td>\n",
       "      <td>36348804.0</td>\n",
       "      <td>36348804.0</td>\n",
       "      <td>36348804.0</td>\n",
       "      <td>36348804.0</td>\n",
       "    </tr>\n",
       "    <tr>\n",
       "      <th>mean</th>\n",
       "      <td>2022-07-04 18:22:49.189546752</td>\n",
       "      <td>2022-07-04 18:38:43.504368896</td>\n",
       "      <td>1.590525e+01</td>\n",
       "      <td>2.650875e-01</td>\n",
       "      <td>12.068337</td>\n",
       "      <td>1.430774</td>\n",
       "      <td>3.5629</td>\n",
       "      <td>1.343532</td>\n",
       "      <td>164.986494</td>\n",
       "      <td>162.764035</td>\n",
       "      <td>1.210262</td>\n",
       "      <td>1.023973</td>\n",
       "      <td>21.485229</td>\n",
       "      <td>9.041125</td>\n",
       "      <td>1.554202</td>\n",
       "    </tr>\n",
       "    <tr>\n",
       "      <th>min</th>\n",
       "      <td>2001-01-01 00:03:14</td>\n",
       "      <td>2001-01-01 00:34:17</td>\n",
       "      <td>1.016667e+00</td>\n",
       "      <td>1.694444e-02</td>\n",
       "      <td>1.000129</td>\n",
       "      <td>1.0</td>\n",
       "      <td>0.1</td>\n",
       "      <td>1.0</td>\n",
       "      <td>1.0</td>\n",
       "      <td>1.0</td>\n",
       "      <td>1.0</td>\n",
       "      <td>0.0</td>\n",
       "      <td>3.0</td>\n",
       "      <td>0.075793</td>\n",
       "      <td>0.050082</td>\n",
       "    </tr>\n",
       "    <tr>\n",
       "      <th>25%</th>\n",
       "      <td>2022-04-07 15:02:48</td>\n",
       "      <td>2022-04-07 15:22:13.750000128</td>\n",
       "      <td>7.616667e+00</td>\n",
       "      <td>1.269444e-01</td>\n",
       "      <td>7.837638</td>\n",
       "      <td>1.0</td>\n",
       "      <td>1.16</td>\n",
       "      <td>1.0</td>\n",
       "      <td>132.0</td>\n",
       "      <td>113.0</td>\n",
       "      <td>1.0</td>\n",
       "      <td>0.0</td>\n",
       "      <td>12.3</td>\n",
       "      <td>5.959596</td>\n",
       "      <td>1.141791</td>\n",
       "    </tr>\n",
       "    <tr>\n",
       "      <th>50%</th>\n",
       "      <td>2022-06-30 17:35:08</td>\n",
       "      <td>2022-06-30 17:54:10</td>\n",
       "      <td>1.233333e+01</td>\n",
       "      <td>2.055556e-01</td>\n",
       "      <td>10.336633</td>\n",
       "      <td>1.0</td>\n",
       "      <td>1.9</td>\n",
       "      <td>1.0</td>\n",
       "      <td>162.0</td>\n",
       "      <td>162.0</td>\n",
       "      <td>1.0</td>\n",
       "      <td>0.5</td>\n",
       "      <td>15.96</td>\n",
       "      <td>8.194445</td>\n",
       "      <td>1.399052</td>\n",
       "    </tr>\n",
       "    <tr>\n",
       "      <th>75%</th>\n",
       "      <td>2022-10-04 12:27:58.500000</td>\n",
       "      <td>2022-10-04 12:46:07</td>\n",
       "      <td>1.983333e+01</td>\n",
       "      <td>3.305556e-01</td>\n",
       "      <td>14.160363</td>\n",
       "      <td>1.0</td>\n",
       "      <td>3.57</td>\n",
       "      <td>1.0</td>\n",
       "      <td>234.0</td>\n",
       "      <td>234.0</td>\n",
       "      <td>1.0</td>\n",
       "      <td>2.5</td>\n",
       "      <td>22.77</td>\n",
       "      <td>11.070968</td>\n",
       "      <td>1.78125</td>\n",
       "    </tr>\n",
       "    <tr>\n",
       "      <th>max</th>\n",
       "      <td>2023-01-01 00:31:23</td>\n",
       "      <td>2023-01-01 00:56:58</td>\n",
       "      <td>3.001450e+03</td>\n",
       "      <td>5.002417e+01</td>\n",
       "      <td>120.0</td>\n",
       "      <td>9.0</td>\n",
       "      <td>380.130005</td>\n",
       "      <td>99.0</td>\n",
       "      <td>265.0</td>\n",
       "      <td>265.0</td>\n",
       "      <td>5.0</td>\n",
       "      <td>33.5</td>\n",
       "      <td>1783.849976</td>\n",
       "      <td>30.0</td>\n",
       "      <td>19.993356</td>\n",
       "    </tr>\n",
       "    <tr>\n",
       "      <th>std</th>\n",
       "      <td>NaN</td>\n",
       "      <td>NaN</td>\n",
       "      <td>1.388525e+01</td>\n",
       "      <td>2.314208e-01</td>\n",
       "      <td>6.593852</td>\n",
       "      <td>0.953659</td>\n",
       "      <td>4.508173</td>\n",
       "      <td>5.287256</td>\n",
       "      <td>64.834422</td>\n",
       "      <td>70.139865</td>\n",
       "      <td>0.427119</td>\n",
       "      <td>1.253535</td>\n",
       "      <td>16.725527</td>\n",
       "      <td>4.262414</td>\n",
       "      <td>0.646493</td>\n",
       "    </tr>\n",
       "  </tbody>\n",
       "</table>\n",
       "</div>"
      ],
      "text/plain": [
       "                tpep_pickup_datetime          tpep_dropoff_datetime  \\\n",
       "count                       36348804                       36348804   \n",
       "mean   2022-07-04 18:22:49.189546752  2022-07-04 18:38:43.504368896   \n",
       "min              2001-01-01 00:03:14            2001-01-01 00:34:17   \n",
       "25%              2022-04-07 15:02:48  2022-04-07 15:22:13.750000128   \n",
       "50%              2022-06-30 17:35:08            2022-06-30 17:54:10   \n",
       "75%       2022-10-04 12:27:58.500000            2022-10-04 12:46:07   \n",
       "max              2023-01-01 00:31:23            2023-01-01 00:56:58   \n",
       "std                              NaN                            NaN   \n",
       "\n",
       "       duration_min  duration_hour   speed_kmh  passenger_count  \\\n",
       "count  3.634880e+07   3.634880e+07  36348804.0       36348804.0   \n",
       "mean   1.590525e+01   2.650875e-01   12.068337         1.430774   \n",
       "min    1.016667e+00   1.694444e-02    1.000129              1.0   \n",
       "25%    7.616667e+00   1.269444e-01    7.837638              1.0   \n",
       "50%    1.233333e+01   2.055556e-01   10.336633              1.0   \n",
       "75%    1.983333e+01   3.305556e-01   14.160363              1.0   \n",
       "max    3.001450e+03   5.002417e+01       120.0              9.0   \n",
       "std    1.388525e+01   2.314208e-01    6.593852         0.953659   \n",
       "\n",
       "       trip_distance  RatecodeID  PULocationID  DOLocationID  payment_type  \\\n",
       "count     36348804.0  36348804.0    36348804.0    36348804.0    36348804.0   \n",
       "mean          3.5629    1.343532    164.986494    162.764035      1.210262   \n",
       "min              0.1         1.0           1.0           1.0           1.0   \n",
       "25%             1.16         1.0         132.0         113.0           1.0   \n",
       "50%              1.9         1.0         162.0         162.0           1.0   \n",
       "75%             3.57         1.0         234.0         234.0           1.0   \n",
       "max       380.130005        99.0         265.0         265.0           5.0   \n",
       "std         4.508173    5.287256     64.834422     70.139865      0.427119   \n",
       "\n",
       "            extra  total_amount  fare_per_km  fare_per_min  \n",
       "count  36348804.0    36348804.0   36348804.0    36348804.0  \n",
       "mean     1.023973     21.485229     9.041125      1.554202  \n",
       "min           0.0           3.0     0.075793      0.050082  \n",
       "25%           0.0          12.3     5.959596      1.141791  \n",
       "50%           0.5         15.96     8.194445      1.399052  \n",
       "75%           2.5         22.77    11.070968       1.78125  \n",
       "max          33.5   1783.849976         30.0     19.993356  \n",
       "std      1.253535     16.725527     4.262414      0.646493  "
      ]
     },
     "execution_count": 38,
     "metadata": {},
     "output_type": "execute_result"
    }
   ],
   "source": [
    "df.describe()"
   ]
  },
  {
   "cell_type": "markdown",
   "id": "e514528c",
   "metadata": {},
   "source": [
    "tpep_pickup_datetime: The date and time when the passenger was picked up.\n",
    "\n",
    "tpep_dropoff_datetime: The date and time when the passenger was dropped off.\n",
    "\n",
    "passenger_count: The number of passengers in the taxi.\n",
    "\n",
    "trip_distance: The total distance of the trip in miles or kilometers.\n",
    "\n",
    "RatecodeID: The rate code assigned to the trip, representing fare types.\n",
    "\n",
    "PULocationID: The unique identifier for the pickup location (zone or area).\n",
    "\n",
    "DOLocationID: The unique identifier for the drop-off location (zone or area).\n",
    "\n",
    "payment_type: The method of payment used by the passenger (e.g., cash, card).\n",
    "\n",
    "extra: Additional charges applied during the trip (e.g., night surcharge).\n",
    "\n",
    "total_amount: The total fare amount, including all charges and surcharges.\n"
   ]
  },
  {
   "cell_type": "code",
   "execution_count": 24,
   "id": "c7161814",
   "metadata": {},
   "outputs": [
    {
     "name": "stdout",
     "output_type": "stream",
     "text": [
      "                tpep_pickup_datetime          tpep_dropoff_datetime  \\\n",
      "count                       36724241                       36724241   \n",
      "mean   2022-07-04 22:54:34.689054208  2022-07-04 23:10:21.876974336   \n",
      "min              2001-01-01 00:03:14            2001-01-01 00:34:17   \n",
      "25%              2022-04-07 16:59:04            2022-04-07 17:18:17   \n",
      "50%              2022-06-30 20:59:43            2022-06-30 21:14:56   \n",
      "75%              2022-10-04 16:52:31            2022-10-04 17:10:25   \n",
      "max              2023-01-01 00:31:23            2023-01-01 00:56:58   \n",
      "std                              NaN                            NaN   \n",
      "\n",
      "       duration_min  duration_hour   speed_kmh  passenger_count  \\\n",
      "count  3.672424e+07   3.672424e+07  36724241.0       36724241.0   \n",
      "mean   1.578647e+01   2.631078e-01   12.037744         1.430675   \n",
      "min    1.666667e-02   2.777778e-04         1.0              1.0   \n",
      "25%    7.516667e+00   1.252778e-01    7.792208              1.0   \n",
      "50%    1.225000e+01   2.041667e-01   10.304832              1.0   \n",
      "75%    1.973333e+01   3.288889e-01    14.13497              1.0   \n",
      "max    3.001450e+03   5.002417e+01       120.0              9.0   \n",
      "std    1.393630e+01   2.322717e-01    6.686093         0.953243   \n",
      "\n",
      "       trip_distance  RatecodeID  PULocationID  DOLocationID  payment_type  \\\n",
      "count     36724241.0  36724241.0    36724241.0    36724241.0    36724241.0   \n",
      "mean        3.529797    1.352276    165.004475    162.811327      1.212918   \n",
      "min             0.01         1.0           1.0           1.0           1.0   \n",
      "25%             1.13         1.0         132.0         113.0           1.0   \n",
      "50%              1.9         1.0         162.0         162.0           1.0   \n",
      "75%             3.52         1.0         234.0         234.0           1.0   \n",
      "max       380.130005        99.0         265.0         265.0           5.0   \n",
      "std         4.498956    5.322942       64.8397     70.100572      0.431191   \n",
      "\n",
      "            extra  total_amount  \n",
      "count  36724241.0    36724241.0  \n",
      "mean     1.024362     21.516893  \n",
      "min        -22.18          0.04  \n",
      "25%           0.0          12.3  \n",
      "50%           0.5         15.96  \n",
      "75%           2.5          22.6  \n",
      "max          33.5    401095.625  \n",
      "std      1.254469     94.912354  \n"
     ]
    }
   ],
   "source": [
    "#show summary of eah column\n",
    "print(df.describe())"
   ]
  },
  {
   "cell_type": "code",
   "execution_count": 43,
   "id": "6ddb05cf",
   "metadata": {},
   "outputs": [],
   "source": [
    "#output cleaned data to csv\n",
    "df.to_csv(\"../data/nytaxi2022_cleaned.csv\", index=False)"
   ]
  },
  {
   "cell_type": "code",
   "execution_count": 44,
   "id": "6595f333",
   "metadata": {},
   "outputs": [
    {
     "name": "stdout",
     "output_type": "stream",
     "text": [
      "Train size: 24,807,483 rows\n",
      "Test size:  10,629,748 rows\n",
      "Train ratio: 0.700\n",
      "Export complete! Files written to: ../data/\n"
     ]
    }
   ],
   "source": [
    "#split into train and test set, 70% train, 30% test\n",
    "import hashlib\n",
    "import numpy as np\n",
    "import pandas as pd\n",
    "\n",
    "TRAIN_RATIO = 0.7\n",
    "OUTPUT_DIR = \"../data/\"   # adjust path as needed\n",
    "\n",
    "#split function\n",
    "def assign_split(keys, train_ratio=TRAIN_RATIO):\n",
    "    \"\"\"\n",
    "    Deterministic hash-based split into train/test.\n",
    "    keys: pd.Series of string identifiers for each row\n",
    "    \"\"\"\n",
    "    hash_vals = keys.apply(\n",
    "        lambda s: int(hashlib.blake2b(s.encode(), digest_size=8).hexdigest(), 16) % 10000\n",
    "    )\n",
    "    return np.where(hash_vals < int(train_ratio * 10000), \"train\", \"test\")\n",
    "#Build keys for hashing, use only stable and unique columns (no NaNs, already cleaned)\n",
    "keys = (\n",
    "    df[\"tpep_pickup_datetime\"].astype(\"int64\").astype(str) + \"|\" +\n",
    "    df[\"tpep_dropoff_datetime\"].astype(\"int64\").astype(str) + \"|\" +\n",
    "    df[\"PULocationID\"].astype(str) + \"|\" +\n",
    "    df[\"DOLocationID\"].astype(str) + \"|\" +\n",
    "    df[\"trip_distance\"].round(4).astype(str) + \"|\" +\n",
    "    df[\"total_amount\"].round(2).astype(str)\n",
    ")\n",
    "\n",
    "# Apply split\n",
    "df[\"split\"] = assign_split(keys)\n",
    "\n",
    "train_df = df[df[\"split\"] == \"train\"].copy()\n",
    "test_df  = df[df[\"split\"] == \"test\"].copy()\n",
    "\n",
    "print(f\"Train size: {len(train_df):,} rows\")\n",
    "print(f\"Test size:  {len(test_df):,} rows\")\n",
    "print(f\"Train ratio: {len(train_df) / len(df):.3f}\")\n",
    "\n",
    "# Export\n",
    "train_df.to_parquet(f\"{OUTPUT_DIR}/taxi_train.parquet\", index=False)\n",
    "test_df.to_parquet(f\"{OUTPUT_DIR}/taxi_test.parquet\", index=False)\n",
    "\n",
    "# Optional: also CSV (larger files, slower IO)\n",
    "train_df.to_csv(f\"{OUTPUT_DIR}/taxi_train.csv\", index=False)\n",
    "test_df.to_csv(f\"{OUTPUT_DIR}/taxi_test.csv\", index=False)\n",
    "\n",
    "print(\"Export complete! Files written to:\", OUTPUT_DIR)\n"
   ]
  }
 ],
 "metadata": {
  "kernelspec": {
   "display_name": "2590-hw2",
   "language": "python",
   "name": "2590-hw2"
  },
  "language_info": {
   "codemirror_mode": {
    "name": "ipython",
    "version": 3
   },
   "file_extension": ".py",
   "mimetype": "text/x-python",
   "name": "python",
   "nbconvert_exporter": "python",
   "pygments_lexer": "ipython3",
   "version": "3.12.4"
  }
 },
 "nbformat": 4,
 "nbformat_minor": 5
}
